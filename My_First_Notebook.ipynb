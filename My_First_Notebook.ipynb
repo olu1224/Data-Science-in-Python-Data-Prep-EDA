{
 "cells": [
  {
   "cell_type": "markdown",
   "id": "83d4536f-427c-49e3-b7db-c9064cacc65d",
   "metadata": {},
   "source": [
    "# Jupyter Notebook Intro\n",
    "## Section 1: Markdown Basics\n",
    "\n",
    "This is a body text"
   ]
  },
  {
   "cell_type": "code",
   "execution_count": 4,
   "id": "a59b4e26-e995-48da-96bb-9781f157e119",
   "metadata": {},
   "outputs": [
    {
     "data": {
      "text/plain": [
       "5"
      ]
     },
     "execution_count": 4,
     "metadata": {},
     "output_type": "execute_result"
    }
   ],
   "source": [
    "#abrilliant!\n",
    "2+3"
   ]
  },
  {
   "cell_type": "code",
   "execution_count": null,
   "id": "2b86b7e5-61e3-4c2b-8b76-721843e38c69",
   "metadata": {},
   "outputs": [],
   "source": []
  },
  {
   "cell_type": "code",
   "execution_count": null,
   "id": "0e6ddc1f-99e6-4bd1-8722-707b9f7b3b6a",
   "metadata": {},
   "outputs": [],
   "source": []
  },
  {
   "cell_type": "code",
   "execution_count": null,
   "id": "a5d5d8ae-b6b2-4ddc-9bd1-1de3c0c2d909",
   "metadata": {},
   "outputs": [],
   "source": []
  },
  {
   "cell_type": "code",
   "execution_count": null,
   "id": "1604a238-512f-49da-9a1e-e70a9d08a789",
   "metadata": {},
   "outputs": [],
   "source": []
  },
  {
   "cell_type": "code",
   "execution_count": null,
   "id": "dca91cb4-425f-42b5-851e-f0d2166cd77b",
   "metadata": {},
   "outputs": [],
   "source": []
  },
  {
   "cell_type": "code",
   "execution_count": null,
   "id": "7839f5a0-7be8-4576-8cce-6f92ac77aae0",
   "metadata": {},
   "outputs": [],
   "source": []
  },
  {
   "cell_type": "code",
   "execution_count": null,
   "id": "a11137d5-1ee7-474c-a36c-e3521f453568",
   "metadata": {},
   "outputs": [],
   "source": []
  },
  {
   "cell_type": "code",
   "execution_count": null,
   "id": "bf805f58-009c-4ddd-8c81-d3aaff294b7b",
   "metadata": {},
   "outputs": [],
   "source": []
  },
  {
   "cell_type": "code",
   "execution_count": null,
   "id": "915e2b07-0de9-4530-9aa3-ed0f01950a9c",
   "metadata": {},
   "outputs": [],
   "source": []
  },
  {
   "cell_type": "code",
   "execution_count": null,
   "id": "84a537ba-c806-4457-8cb9-3370291d17e5",
   "metadata": {},
   "outputs": [],
   "source": []
  },
  {
   "cell_type": "code",
   "execution_count": null,
   "id": "0597bbf9-92ad-4826-93c3-a15b35ea4af2",
   "metadata": {},
   "outputs": [],
   "source": []
  }
 ],
 "metadata": {
  "kernelspec": {
   "display_name": "Python [conda env:base] *",
   "language": "python",
   "name": "conda-base-py"
  },
  "language_info": {
   "codemirror_mode": {
    "name": "ipython",
    "version": 3
   },
   "file_extension": ".py",
   "mimetype": "text/x-python",
   "name": "python",
   "nbconvert_exporter": "python",
   "pygments_lexer": "ipython3",
   "version": "3.12.4"
  }
 },
 "nbformat": 4,
 "nbformat_minor": 5
}
